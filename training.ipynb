{
 "cells": [
  {
   "cell_type": "markdown",
   "metadata": {},
   "source": [
    "# Training totals\n",
    "\n",
    "This notebook explores my training for DJBB 2024 in Jamaica."
   ]
  },
  {
   "cell_type": "markdown",
   "metadata": {},
   "source": [
    "## Setup imports"
   ]
  },
  {
   "cell_type": "code",
   "execution_count": 80,
   "metadata": {
    "tags": []
   },
   "outputs": [],
   "source": [
    "import os, sys\n",
    "import tempfile\n",
    "import logging\n",
    "\n",
    "import matplotlib.pyplot as plt\n",
    "import pandas as pd\n",
    "import numpy as np\n",
    "import seaborn as sns\n",
    "\n",
    "%matplotlib inline\n",
    "%load_ext autoreload\n",
    "%aimport utils\n",
    "%autoreload 1\n",
    "\n",
    "sns.set_style(\"whitegrid\")\n",
    "pd.set_option('display.max_rows', 100)"
   ]
  },
  {
   "cell_type": "code",
   "execution_count": 2,
   "metadata": {},
   "outputs": [],
   "source": [
    "# log level\n",
    "logging.basicConfig(\n",
    "    stream=sys.stdout,\n",
    "    format='%(asctime)s %(levelname)s: %(message)s',\n",
    "    level=logging.INFO)\n",
    "\n",
    "logger = logging.getLogger(\"notebook\")\n",
    "logger.setLevel(logging.DEBUG)\n",
    "\n",
    "# disable font not found warnings\n",
    "logging.getLogger('matplotlib.font_manager').disabled = True"
   ]
  },
  {
   "cell_type": "markdown",
   "metadata": {},
   "source": [
    "## Setup data directory"
   ]
  },
  {
   "cell_type": "code",
   "execution_count": 3,
   "metadata": {
    "tags": []
   },
   "outputs": [
    {
     "name": "stdout",
     "output_type": "stream",
     "text": [
      "env: DATA_DIRECTORY=data\n",
      "Data root: data, file: data/my_activity_data=20240508102713.csv\n"
     ]
    }
   ],
   "source": [
    "# Use Jupyter magic to retain variable in this notebook\n",
    "%env DATA_DIRECTORY=data\n",
    "dataset_name = \"my_activity_data=20240508102713.csv\"\n",
    "directory = os.environ.get(\"DATA_DIRECTORY\")\n",
    "root_dir = tempfile.mkdtemp() if directory is None else directory\n",
    "data_dir = os.path.join(root_dir, dataset_name)\n",
    "print(f\"Data root: {root_dir}, file: {data_dir}\")"
   ]
  },
  {
   "cell_type": "code",
   "execution_count": 4,
   "metadata": {},
   "outputs": [],
   "source": [
    "df = pd.read_csv(data_dir, parse_dates=['start_date', 'start_date_local'])"
   ]
  },
  {
   "cell_type": "markdown",
   "metadata": {},
   "source": [
    "# Initial data exploration\n",
    "Let's familiarize with Strava data dump."
   ]
  },
  {
   "cell_type": "code",
   "execution_count": 5,
   "metadata": {},
   "outputs": [
    {
     "data": {
      "text/plain": [
       "(149, 60)"
      ]
     },
     "execution_count": 5,
     "metadata": {},
     "output_type": "execute_result"
    }
   ],
   "source": [
    "df.shape"
   ]
  },
  {
   "cell_type": "code",
   "execution_count": 6,
   "metadata": {},
   "outputs": [
    {
     "data": {
      "text/plain": [
       "Index(['resource_state', 'name', 'distance', 'moving_time', 'elapsed_time',\n",
       "       'total_elevation_gain', 'type', 'sport_type', 'workout_type', 'id',\n",
       "       'start_date', 'start_date_local', 'timezone', 'utc_offset',\n",
       "       'location_city', 'location_state', 'location_country',\n",
       "       'achievement_count', 'kudos_count', 'comment_count', 'athlete_count',\n",
       "       'photo_count', 'trainer', 'commute', 'manual', 'private', 'visibility',\n",
       "       'flagged', 'gear_id', 'start_latlng', 'end_latlng', 'average_speed',\n",
       "       'max_speed', 'average_cadence', 'average_watts', 'max_watts',\n",
       "       'weighted_average_watts', 'kilojoules', 'device_watts', 'has_heartrate',\n",
       "       'average_heartrate', 'max_heartrate', 'heartrate_opt_out',\n",
       "       'display_hide_heartrate_option', 'elev_high', 'elev_low', 'upload_id',\n",
       "       'upload_id_str', 'external_id', 'from_accepted_tag', 'pr_count',\n",
       "       'total_photo_count', 'has_kudoed', 'suffer_score', 'athlete.id',\n",
       "       'athlete.resource_state', 'map.id', 'map.summary_polyline',\n",
       "       'map.resource_state', 'average_temp'],\n",
       "      dtype='object')"
      ]
     },
     "execution_count": 6,
     "metadata": {},
     "output_type": "execute_result"
    }
   ],
   "source": [
    "df.columns"
   ]
  },
  {
   "cell_type": "code",
   "execution_count": 60,
   "metadata": {},
   "outputs": [
    {
     "data": {
      "text/plain": [
       "array(['Run', 'Ride', 'Swim', 'Walk', 'Workout', 'VirtualRide',\n",
       "       'WeightTraining'], dtype=object)"
      ]
     },
     "execution_count": 60,
     "metadata": {},
     "output_type": "execute_result"
    }
   ],
   "source": [
    "df.type.unique()"
   ]
  },
  {
   "cell_type": "code",
   "execution_count": 61,
   "metadata": {},
   "outputs": [
    {
     "data": {
      "text/plain": [
       "array(['Run', 'Ride', 'Swim', 'Walk', 'Workout', 'VirtualRide',\n",
       "       'WeightTraining'], dtype=object)"
      ]
     },
     "execution_count": 61,
     "metadata": {},
     "output_type": "execute_result"
    }
   ],
   "source": [
    "df.sport_type.unique()"
   ]
  },
  {
   "cell_type": "code",
   "execution_count": 7,
   "metadata": {},
   "outputs": [
    {
     "data": {
      "text/plain": [
       "array(['(GMT-05:00) America/Jamaica', '(GMT+02:00) Europe/Helsinki',\n",
       "       '(GMT+02:00) Africa/Blantyre', '(GMT+03:00) Africa/Addis_Ababa',\n",
       "       '(GMT+00:00) Africa/Abidjan', '(GMT+00:00) GMT0',\n",
       "       '(GMT+00:00) America/Danmarkshavn', '(GMT+00:00) GMT',\n",
       "       '(GMT+00:00) Greenwich', '(GMT+00:00) UTC',\n",
       "       '(GMT-01:00) America/Scoresbysund', '(GMT+02:00) Asia/Famagusta'],\n",
       "      dtype=object)"
      ]
     },
     "execution_count": 7,
     "metadata": {},
     "output_type": "execute_result"
    }
   ],
   "source": [
    "df.timezone.unique()"
   ]
  },
  {
   "cell_type": "code",
   "execution_count": null,
   "metadata": {},
   "outputs": [
    {
     "data": {
      "text/plain": [
       "array([nan])"
      ]
     },
     "execution_count": 10,
     "metadata": {},
     "output_type": "execute_result"
    }
   ],
   "source": [
    "df.location_city.unique()"
   ]
  },
  {
   "cell_type": "code",
   "execution_count": 11,
   "metadata": {},
   "outputs": [
    {
     "data": {
      "text/plain": [
       "array(['Jamaica', 'Finland'], dtype=object)"
      ]
     },
     "execution_count": 11,
     "metadata": {},
     "output_type": "execute_result"
    }
   ],
   "source": [
    "df.location_country.unique()"
   ]
  },
  {
   "cell_type": "code",
   "execution_count": 33,
   "metadata": {},
   "outputs": [
    {
     "data": {
      "text/plain": [
       "array([-5.,  2.,  3.,  0.])"
      ]
     },
     "execution_count": 33,
     "metadata": {},
     "output_type": "execute_result"
    }
   ],
   "source": [
    "df.utc_offset.unique()/3600"
   ]
  },
  {
   "cell_type": "code",
   "execution_count": 27,
   "metadata": {},
   "outputs": [
    {
     "name": "stdout",
     "output_type": "stream",
     "text": [
      "99: Ride in Finland on 2024-01-25 19:31:56+00:00\n",
      "100: Ride in Finland on 2024-01-25 18:47:33+00:00\n",
      "115: Swim in Finland on 2024-01-04 11:16:02+00:00\n",
      "123: Swim in Finland on 2023-05-06 11:09:41+00:00\n",
      "128: WeightTraining in Finland on 2022-10-04 06:12:22+00:00\n",
      "130: WeightTraining in Finland on 2022-09-28 06:12:01+00:00\n",
      "131: WeightTraining in Finland on 2022-09-26 06:37:56+00:00\n",
      "133: WeightTraining in Finland on 2022-09-23 13:56:47+00:00\n",
      "137: WeightTraining in Finland on 2022-09-07 07:41:25+00:00\n",
      "134: WeightTraining in Finland on 2022-09-20 13:23:33+00:00\n",
      "135: WeightTraining in Finland on 2022-09-13 11:05:57+00:00\n",
      "141: WeightTraining in Finland on 2022-08-25 15:01:11+00:00\n",
      "144: WeightTraining in Finland on 2022-08-16 16:24:44+00:00\n",
      "145: Swim in Finland on 2022-08-14 12:18:18+00:00\n"
     ]
    }
   ],
   "source": [
    "zones = ['(GMT+02:00) Africa/Blantyre', '(GMT+03:00) Africa/Addis_Ababa',\\\n",
    "'(GMT+00:00) Africa/Abidjan', '(GMT+00:00) GMT0',\\\n",
    "'(GMT+00:00) America/Danmarkshavn', '(GMT+00:00) GMT',\\\n",
    "'(GMT+00:00) Greenwich', '(GMT+00:00) UTC',\\\n",
    "'(GMT-01:00) America/Scoresbysund', '(GMT+02:00) Asia/Famagusta']\n",
    "\n",
    "for z in zones:\n",
    "    for index, row in df.loc[df.timezone == z].iterrows():\n",
    "        print(\"{}: {} in {} on {}\".format(\n",
    "            index, row.sport_type, row.location_country, row.start_date_local)\n",
    "            )"
   ]
  },
  {
   "cell_type": "code",
   "execution_count": 49,
   "metadata": {},
   "outputs": [
    {
     "name": "stdout",
     "output_type": "stream",
     "text": [
      "(GMT+02:00) Africa/Blantyre\n",
      "(GMT+02:00) Africa/Blantyre\n",
      "(GMT+02:00) Africa/Blantyre\n",
      "(GMT+03:00) Africa/Addis_Ababa\n"
     ]
    }
   ],
   "source": [
    "for i in [99, 100, 115, 123]:\n",
    "    print(df.loc[i].timezone)"
   ]
  },
  {
   "cell_type": "markdown",
   "metadata": {},
   "source": [
    "NOTE, looks like these have just wrong timezone string. Index 123 has summer time too."
   ]
  },
  {
   "cell_type": "code",
   "execution_count": null,
   "metadata": {},
   "outputs": [
    {
     "data": {
      "text/html": [
       "<div>\n",
       "<style scoped>\n",
       "    .dataframe tbody tr th:only-of-type {\n",
       "        vertical-align: middle;\n",
       "    }\n",
       "\n",
       "    .dataframe tbody tr th {\n",
       "        vertical-align: top;\n",
       "    }\n",
       "\n",
       "    .dataframe thead th {\n",
       "        text-align: right;\n",
       "    }\n",
       "</style>\n",
       "<table border=\"1\" class=\"dataframe\">\n",
       "  <thead>\n",
       "    <tr style=\"text-align: right;\">\n",
       "      <th></th>\n",
       "      <th>resource_state</th>\n",
       "      <th>name</th>\n",
       "      <th>distance</th>\n",
       "      <th>moving_time</th>\n",
       "      <th>elapsed_time</th>\n",
       "      <th>total_elevation_gain</th>\n",
       "      <th>type</th>\n",
       "      <th>sport_type</th>\n",
       "      <th>workout_type</th>\n",
       "      <th>id</th>\n",
       "      <th>...</th>\n",
       "      <th>pr_count</th>\n",
       "      <th>total_photo_count</th>\n",
       "      <th>has_kudoed</th>\n",
       "      <th>suffer_score</th>\n",
       "      <th>athlete.id</th>\n",
       "      <th>athlete.resource_state</th>\n",
       "      <th>map.id</th>\n",
       "      <th>map.summary_polyline</th>\n",
       "      <th>map.resource_state</th>\n",
       "      <th>average_temp</th>\n",
       "    </tr>\n",
       "  </thead>\n",
       "  <tbody>\n",
       "    <tr>\n",
       "      <th>61</th>\n",
       "      <td>2</td>\n",
       "      <td>Morning Run</td>\n",
       "      <td>5253.5</td>\n",
       "      <td>2123</td>\n",
       "      <td>2211</td>\n",
       "      <td>42.1</td>\n",
       "      <td>Run</td>\n",
       "      <td>Run</td>\n",
       "      <td>0.0</td>\n",
       "      <td>10915643273</td>\n",
       "      <td>...</td>\n",
       "      <td>0</td>\n",
       "      <td>0</td>\n",
       "      <td>False</td>\n",
       "      <td>36.0</td>\n",
       "      <td>104560661</td>\n",
       "      <td>1</td>\n",
       "      <td>a10915643273</td>\n",
       "      <td>_iamBn_wsMJZB\\Jb@`@|@b@t@Pj@`@rB?ZAZLDVAjBBFBL...</td>\n",
       "      <td>2</td>\n",
       "      <td>NaN</td>\n",
       "    </tr>\n",
       "    <tr>\n",
       "      <th>62</th>\n",
       "      <td>2</td>\n",
       "      <td>Morning Ride</td>\n",
       "      <td>30093.8</td>\n",
       "      <td>7768</td>\n",
       "      <td>9966</td>\n",
       "      <td>689.0</td>\n",
       "      <td>Ride</td>\n",
       "      <td>Ride</td>\n",
       "      <td>10.0</td>\n",
       "      <td>10909207443</td>\n",
       "      <td>...</td>\n",
       "      <td>0</td>\n",
       "      <td>3</td>\n",
       "      <td>False</td>\n",
       "      <td>53.0</td>\n",
       "      <td>104560661</td>\n",
       "      <td>1</td>\n",
       "      <td>a10909207443</td>\n",
       "      <td>ejbmBvausM{@jC[J{DoA{BwAMa@v@kCPgD}@OoA|@i@?oH...</td>\n",
       "      <td>2</td>\n",
       "      <td>19.0</td>\n",
       "    </tr>\n",
       "    <tr>\n",
       "      <th>63</th>\n",
       "      <td>2</td>\n",
       "      <td>Morning Ride</td>\n",
       "      <td>2272.1</td>\n",
       "      <td>442</td>\n",
       "      <td>468</td>\n",
       "      <td>34.0</td>\n",
       "      <td>Ride</td>\n",
       "      <td>Ride</td>\n",
       "      <td>NaN</td>\n",
       "      <td>10908205344</td>\n",
       "      <td>...</td>\n",
       "      <td>0</td>\n",
       "      <td>0</td>\n",
       "      <td>False</td>\n",
       "      <td>3.0</td>\n",
       "      <td>104560661</td>\n",
       "      <td>1</td>\n",
       "      <td>a10908205344</td>\n",
       "      <td>klamBrjvsMtAgArAwA|@y@fAk@b@Mt@Gf@B|@NzCv@j@JH...</td>\n",
       "      <td>2</td>\n",
       "      <td>23.0</td>\n",
       "    </tr>\n",
       "    <tr>\n",
       "      <th>64</th>\n",
       "      <td>2</td>\n",
       "      <td>Afternoon Walk</td>\n",
       "      <td>5839.1</td>\n",
       "      <td>4911</td>\n",
       "      <td>5396</td>\n",
       "      <td>83.2</td>\n",
       "      <td>Walk</td>\n",
       "      <td>Walk</td>\n",
       "      <td>NaN</td>\n",
       "      <td>10905815315</td>\n",
       "      <td>...</td>\n",
       "      <td>0</td>\n",
       "      <td>0</td>\n",
       "      <td>False</td>\n",
       "      <td>12.0</td>\n",
       "      <td>104560661</td>\n",
       "      <td>1</td>\n",
       "      <td>a10905815315</td>\n",
       "      <td>kebmBtfvsMFGOI?EGQICSUOBCMIGY@KAAA_@?IEAGo@YIM...</td>\n",
       "      <td>2</td>\n",
       "      <td>NaN</td>\n",
       "    </tr>\n",
       "    <tr>\n",
       "      <th>65</th>\n",
       "      <td>2</td>\n",
       "      <td>Afternoon Workout</td>\n",
       "      <td>0.0</td>\n",
       "      <td>5953</td>\n",
       "      <td>5953</td>\n",
       "      <td>0.0</td>\n",
       "      <td>Workout</td>\n",
       "      <td>Workout</td>\n",
       "      <td>NaN</td>\n",
       "      <td>10895075943</td>\n",
       "      <td>...</td>\n",
       "      <td>0</td>\n",
       "      <td>0</td>\n",
       "      <td>False</td>\n",
       "      <td>29.0</td>\n",
       "      <td>104560661</td>\n",
       "      <td>1</td>\n",
       "      <td>a10895075943</td>\n",
       "      <td>NaN</td>\n",
       "      <td>2</td>\n",
       "      <td>NaN</td>\n",
       "    </tr>\n",
       "  </tbody>\n",
       "</table>\n",
       "<p>5 rows × 60 columns</p>\n",
       "</div>"
      ],
      "text/plain": [
       "    resource_state               name  distance  moving_time  elapsed_time  \\\n",
       "61               2        Morning Run    5253.5         2123          2211   \n",
       "62               2       Morning Ride   30093.8         7768          9966   \n",
       "63               2       Morning Ride    2272.1          442           468   \n",
       "64               2     Afternoon Walk    5839.1         4911          5396   \n",
       "65               2  Afternoon Workout       0.0         5953          5953   \n",
       "\n",
       "    total_elevation_gain     type sport_type  workout_type           id  ...  \\\n",
       "61                  42.1      Run        Run           0.0  10915643273  ...   \n",
       "62                 689.0     Ride       Ride          10.0  10909207443  ...   \n",
       "63                  34.0     Ride       Ride           NaN  10908205344  ...   \n",
       "64                  83.2     Walk       Walk           NaN  10905815315  ...   \n",
       "65                   0.0  Workout    Workout           NaN  10895075943  ...   \n",
       "\n",
       "   pr_count total_photo_count has_kudoed  suffer_score  athlete.id  \\\n",
       "61        0                 0      False          36.0   104560661   \n",
       "62        0                 3      False          53.0   104560661   \n",
       "63        0                 0      False           3.0   104560661   \n",
       "64        0                 0      False          12.0   104560661   \n",
       "65        0                 0      False          29.0   104560661   \n",
       "\n",
       "    athlete.resource_state        map.id  \\\n",
       "61                       1  a10915643273   \n",
       "62                       1  a10909207443   \n",
       "63                       1  a10908205344   \n",
       "64                       1  a10905815315   \n",
       "65                       1  a10895075943   \n",
       "\n",
       "                                 map.summary_polyline  map.resource_state  \\\n",
       "61  _iamBn_wsMJZB\\Jb@`@|@b@t@Pj@`@rB?ZAZLDVAjBBFBL...                   2   \n",
       "62  ejbmBvausM{@jC[J{DoA{BwAMa@v@kCPgD}@OoA|@i@?oH...                   2   \n",
       "63  klamBrjvsMtAgArAwA|@y@fAk@b@Mt@Gf@B|@NzCv@j@JH...                   2   \n",
       "64  kebmBtfvsMFGOI?EGQICSUOBCMIGY@KAAA_@?IEAGo@YIM...                   2   \n",
       "65                                                NaN                   2   \n",
       "\n",
       "    average_temp  \n",
       "61           NaN  \n",
       "62          19.0  \n",
       "63          23.0  \n",
       "64           NaN  \n",
       "65           NaN  \n",
       "\n",
       "[5 rows x 60 columns]"
      ]
     },
     "metadata": {},
     "output_type": "display_data"
    }
   ],
   "source": [
    "df.loc[df.location_country == 'Finland'].head()"
   ]
  },
  {
   "cell_type": "code",
   "execution_count": 51,
   "metadata": {},
   "outputs": [
    {
     "data": {
      "text/plain": [
       "count      149\n",
       "unique       2\n",
       "top       True\n",
       "freq       125\n",
       "Name: has_heartrate, dtype: object"
      ]
     },
     "execution_count": 51,
     "metadata": {},
     "output_type": "execute_result"
    }
   ],
   "source": [
    "df.has_heartrate.describe()"
   ]
  },
  {
   "cell_type": "code",
   "execution_count": null,
   "metadata": {},
   "outputs": [
    {
     "data": {
      "text/plain": [
       "count    125.000000\n",
       "mean     120.892000\n",
       "std       19.181399\n",
       "min       78.600000\n",
       "25%      106.800000\n",
       "50%      121.400000\n",
       "75%      138.400000\n",
       "max      151.300000\n",
       "Name: average_heartrate, dtype: float64"
      ]
     },
     "metadata": {},
     "output_type": "display_data"
    }
   ],
   "source": [
    "df.average_heartrate.describe()"
   ]
  },
  {
   "cell_type": "markdown",
   "metadata": {},
   "source": [
    "TODO looks like we could manually assign training zone for an exercise."
   ]
  },
  {
   "cell_type": "markdown",
   "metadata": {},
   "source": [
    "## Analyze data\n",
    "\n",
    "### Finland pre-training"
   ]
  },
  {
   "cell_type": "code",
   "execution_count": null,
   "metadata": {},
   "outputs": [],
   "source": [
    "# 2024 pre-training in Finland, during winter, make a copy(!)\n",
    "df_fin = df.loc[\n",
    "    (df.location_country == \"Finland\")\n",
    "    & (df.start_date > \"2024-01-01\")\n",
    "    & (df.start_date < \"2024-02-14\")\n",
    "].copy()\n",
    "\n",
    "# Fix timezone attribute\n",
    "df_fin[\"start_date_local\"] = (\n",
    "    df_fin[\"start_date_local\"].dt.tz_localize(None).dt.tz_localize(\"Europe/Helsinki\")\n",
    ")"
   ]
  },
  {
   "cell_type": "code",
   "execution_count": 145,
   "metadata": {},
   "outputs": [
    {
     "data": {
      "text/plain": [
       "array(['VirtualRide', 'Workout', 'Walk', 'WeightTraining', 'Ride', 'Swim'],\n",
       "      dtype=object)"
      ]
     },
     "execution_count": 145,
     "metadata": {},
     "output_type": "execute_result"
    }
   ],
   "source": [
    "df_fin.sport_type.unique()"
   ]
  },
  {
   "cell_type": "code",
   "execution_count": 212,
   "metadata": {},
   "outputs": [
    {
     "data": {
      "text/plain": [
       "start_date_local\n",
       "2024-01-01 00:00:00+02:00    2.010833\n",
       "2024-01-08 00:00:00+02:00    4.961389\n",
       "2024-01-15 00:00:00+02:00    3.238333\n",
       "2024-01-22 00:00:00+02:00    4.190556\n",
       "2024-01-29 00:00:00+02:00    5.092778\n",
       "Freq: W-MON, Name: moving_time, dtype: float64"
      ]
     },
     "execution_count": 212,
     "metadata": {},
     "output_type": "execute_result"
    }
   ],
   "source": [
    "df_fin_weekly = (\n",
    "    df_fin.groupby(\n",
    "        pd.Grouper(key=\"start_date_local\", freq=\"W-MON\", label=\"left\")\n",
    "    ).moving_time.sum()\n",
    "    / 3600\n",
    ")\n",
    "df_fin_weekly.head()"
   ]
  },
  {
   "cell_type": "code",
   "execution_count": 215,
   "metadata": {},
   "outputs": [
    {
     "data": {
      "image/png": "[encoded data removed]",
      "text/plain": [
       "<Figure size 1500x600 with 1 Axes>"
      ]
     },
     "metadata": {},
     "output_type": "display_data"
    }
   ],
   "source": [
    "# Reset index to use for plotting\n",
    "df_fin_weekly = df_fin_weekly.reset_index()\n",
    "\n",
    "# Create a bar plot using Seaborn\n",
    "plt.figure(figsize=(15, 6))\n",
    "sns.barplot(\n",
    "    x=df_fin_weekly[\"start_date_local\"].dt.strftime(\"W%U\"),\n",
    "    y=df_fin_weekly[\"moving_time\"],\n",
    "    color=utils.colors[\"Finland flag blue\"],\n",
    ")\n",
    "\n",
    "plt.title(\"Weekly Training Hours in Finland\")\n",
    "plt.ylabel(\"Hours\")\n",
    "plt.xlabel(\"Week\")\n",
    "plt.xticks(rotation=45)\n",
    "plt.show()"
   ]
  },
  {
   "cell_type": "code",
   "execution_count": null,
   "metadata": {},
   "outputs": [
    {
     "data": {
      "text/html": [
       "<div>\n",
       "<style scoped>\n",
       "    .dataframe tbody tr th:only-of-type {\n",
       "        vertical-align: middle;\n",
       "    }\n",
       "\n",
       "    .dataframe tbody tr th {\n",
       "        vertical-align: top;\n",
       "    }\n",
       "\n",
       "    .dataframe thead th {\n",
       "        text-align: right;\n",
       "    }\n",
       "</style>\n",
       "<table border=\"1\" class=\"dataframe\">\n",
       "  <thead>\n",
       "    <tr style=\"text-align: right;\">\n",
       "      <th></th>\n",
       "      <th>index</th>\n",
       "      <th>start_date_local</th>\n",
       "      <th>moving_time</th>\n",
       "    </tr>\n",
       "  </thead>\n",
       "  <tbody>\n",
       "    <tr>\n",
       "      <th>0</th>\n",
       "      <td>0</td>\n",
       "      <td>2024-01-01 00:00:00+02:00</td>\n",
       "      <td>2.010833</td>\n",
       "    </tr>\n",
       "    <tr>\n",
       "      <th>1</th>\n",
       "      <td>1</td>\n",
       "      <td>2024-01-08 00:00:00+02:00</td>\n",
       "      <td>4.961389</td>\n",
       "    </tr>\n",
       "    <tr>\n",
       "      <th>2</th>\n",
       "      <td>2</td>\n",
       "      <td>2024-01-15 00:00:00+02:00</td>\n",
       "      <td>3.238333</td>\n",
       "    </tr>\n",
       "    <tr>\n",
       "      <th>3</th>\n",
       "      <td>3</td>\n",
       "      <td>2024-01-22 00:00:00+02:00</td>\n",
       "      <td>4.190556</td>\n",
       "    </tr>\n",
       "    <tr>\n",
       "      <th>4</th>\n",
       "      <td>4</td>\n",
       "      <td>2024-01-29 00:00:00+02:00</td>\n",
       "      <td>5.092778</td>\n",
       "    </tr>\n",
       "    <tr>\n",
       "      <th>5</th>\n",
       "      <td>5</td>\n",
       "      <td>2024-02-05 00:00:00+02:00</td>\n",
       "      <td>7.278056</td>\n",
       "    </tr>\n",
       "  </tbody>\n",
       "</table>\n",
       "</div>"
      ],
      "text/plain": [
       "   index          start_date_local  moving_time\n",
       "0      0 2024-01-01 00:00:00+02:00     2.010833\n",
       "1      1 2024-01-08 00:00:00+02:00     4.961389\n",
       "2      2 2024-01-15 00:00:00+02:00     3.238333\n",
       "3      3 2024-01-22 00:00:00+02:00     4.190556\n",
       "4      4 2024-01-29 00:00:00+02:00     5.092778\n",
       "5      5 2024-02-05 00:00:00+02:00     7.278056"
      ]
     },
     "execution_count": 218,
     "metadata": {},
     "output_type": "execute_result"
    }
   ],
   "source": [
    "#TODO compute percentages of each sport type"
   ]
  },
  {
   "cell_type": "code",
   "execution_count": 13,
   "metadata": {},
   "outputs": [],
   "source": [
    "# 2024 training data\n",
    "training = df.loc[(df.start_date > '2024-01-01') & (df.start_date_local < '2024-04-30')]"
   ]
  },
  {
   "cell_type": "code",
   "execution_count": 14,
   "metadata": {},
   "outputs": [],
   "source": [
    "# DJBB 2024\n",
    "race = df.loc[df.name.str.contains('DJBB')]"
   ]
  },
  {
   "cell_type": "code",
   "execution_count": 15,
   "metadata": {},
   "outputs": [
    {
     "data": {
      "text/html": [
       "<div>\n",
       "<style scoped>\n",
       "    .dataframe tbody tr th:only-of-type {\n",
       "        vertical-align: middle;\n",
       "    }\n",
       "\n",
       "    .dataframe tbody tr th {\n",
       "        vertical-align: top;\n",
       "    }\n",
       "\n",
       "    .dataframe thead th {\n",
       "        text-align: right;\n",
       "    }\n",
       "</style>\n",
       "<table border=\"1\" class=\"dataframe\">\n",
       "  <thead>\n",
       "    <tr style=\"text-align: right;\">\n",
       "      <th></th>\n",
       "      <th>resource_state</th>\n",
       "      <th>name</th>\n",
       "      <th>distance</th>\n",
       "      <th>moving_time</th>\n",
       "      <th>elapsed_time</th>\n",
       "      <th>total_elevation_gain</th>\n",
       "      <th>type</th>\n",
       "      <th>sport_type</th>\n",
       "      <th>workout_type</th>\n",
       "      <th>id</th>\n",
       "      <th>...</th>\n",
       "      <th>pr_count</th>\n",
       "      <th>total_photo_count</th>\n",
       "      <th>has_kudoed</th>\n",
       "      <th>suffer_score</th>\n",
       "      <th>athlete.id</th>\n",
       "      <th>athlete.resource_state</th>\n",
       "      <th>map.id</th>\n",
       "      <th>map.summary_polyline</th>\n",
       "      <th>map.resource_state</th>\n",
       "      <th>average_temp</th>\n",
       "    </tr>\n",
       "  </thead>\n",
       "  <tbody>\n",
       "    <tr>\n",
       "      <th>8</th>\n",
       "      <td>2</td>\n",
       "      <td>Morning Ride</td>\n",
       "      <td>4780.4</td>\n",
       "      <td>987</td>\n",
       "      <td>1914</td>\n",
       "      <td>61.0</td>\n",
       "      <td>Ride</td>\n",
       "      <td>Ride</td>\n",
       "      <td>NaN</td>\n",
       "      <td>11291134982</td>\n",
       "      <td>...</td>\n",
       "      <td>0</td>\n",
       "      <td>0</td>\n",
       "      <td>False</td>\n",
       "      <td>NaN</td>\n",
       "      <td>104560661</td>\n",
       "      <td>1</td>\n",
       "      <td>a11291134982</td>\n",
       "      <td>ehcmBr~ssMv@X|@b@~CbA`@TFNCHqAhC[|@uBvE]`@a@Zm...</td>\n",
       "      <td>2</td>\n",
       "      <td>32.0</td>\n",
       "    </tr>\n",
       "    <tr>\n",
       "      <th>9</th>\n",
       "      <td>2</td>\n",
       "      <td>Morning Ride</td>\n",
       "      <td>49279.1</td>\n",
       "      <td>10733</td>\n",
       "      <td>17090</td>\n",
       "      <td>800.0</td>\n",
       "      <td>Ride</td>\n",
       "      <td>Ride</td>\n",
       "      <td>10.0</td>\n",
       "      <td>11284528671</td>\n",
       "      <td>...</td>\n",
       "      <td>19</td>\n",
       "      <td>1</td>\n",
       "      <td>False</td>\n",
       "      <td>61.0</td>\n",
       "      <td>104560661</td>\n",
       "      <td>1</td>\n",
       "      <td>a11284528671</td>\n",
       "      <td>ghcmBx~ssMbIlCjFeAC\\xc@|RlEpDjO|TxBkAxFYhFqC`P...</td>\n",
       "      <td>2</td>\n",
       "      <td>26.0</td>\n",
       "    </tr>\n",
       "    <tr>\n",
       "      <th>10</th>\n",
       "      <td>2</td>\n",
       "      <td>Morning Ride</td>\n",
       "      <td>30850.8</td>\n",
       "      <td>6768</td>\n",
       "      <td>8325</td>\n",
       "      <td>694.0</td>\n",
       "      <td>Ride</td>\n",
       "      <td>Ride</td>\n",
       "      <td>10.0</td>\n",
       "      <td>11267859653</td>\n",
       "      <td>...</td>\n",
       "      <td>14</td>\n",
       "      <td>4</td>\n",
       "      <td>False</td>\n",
       "      <td>59.0</td>\n",
       "      <td>104560661</td>\n",
       "      <td>1</td>\n",
       "      <td>a11267859653</td>\n",
       "      <td>oycmBprrsM|@gAv@{C~@o@zAM|@JvGrDtBb@zO?tD~AvCV...</td>\n",
       "      <td>2</td>\n",
       "      <td>23.0</td>\n",
       "    </tr>\n",
       "    <tr>\n",
       "      <th>11</th>\n",
       "      <td>2</td>\n",
       "      <td>Lunch Swim</td>\n",
       "      <td>475.0</td>\n",
       "      <td>1807</td>\n",
       "      <td>1807</td>\n",
       "      <td>0.0</td>\n",
       "      <td>Swim</td>\n",
       "      <td>Swim</td>\n",
       "      <td>NaN</td>\n",
       "      <td>11262576995</td>\n",
       "      <td>...</td>\n",
       "      <td>0</td>\n",
       "      <td>2</td>\n",
       "      <td>False</td>\n",
       "      <td>12.0</td>\n",
       "      <td>104560661</td>\n",
       "      <td>1</td>\n",
       "      <td>a11262576995</td>\n",
       "      <td>NaN</td>\n",
       "      <td>2</td>\n",
       "      <td>NaN</td>\n",
       "    </tr>\n",
       "    <tr>\n",
       "      <th>12</th>\n",
       "      <td>2</td>\n",
       "      <td>Lunch Ride</td>\n",
       "      <td>6438.6</td>\n",
       "      <td>1353</td>\n",
       "      <td>8077</td>\n",
       "      <td>103.0</td>\n",
       "      <td>Ride</td>\n",
       "      <td>Ride</td>\n",
       "      <td>12.0</td>\n",
       "      <td>11263227838</td>\n",
       "      <td>...</td>\n",
       "      <td>0</td>\n",
       "      <td>0</td>\n",
       "      <td>False</td>\n",
       "      <td>NaN</td>\n",
       "      <td>104560661</td>\n",
       "      <td>1</td>\n",
       "      <td>a11263227838</td>\n",
       "      <td>ihcmBz~ssM~Al@hBj@bA^PJRD\\AhAc@^ILIDQB]FmABKBE...</td>\n",
       "      <td>2</td>\n",
       "      <td>38.0</td>\n",
       "    </tr>\n",
       "  </tbody>\n",
       "</table>\n",
       "<p>5 rows × 60 columns</p>\n",
       "</div>"
      ],
      "text/plain": [
       "    resource_state          name  distance  moving_time  elapsed_time  \\\n",
       "8                2  Morning Ride    4780.4          987          1914   \n",
       "9                2  Morning Ride   49279.1        10733         17090   \n",
       "10               2  Morning Ride   30850.8         6768          8325   \n",
       "11               2    Lunch Swim     475.0         1807          1807   \n",
       "12               2    Lunch Ride    6438.6         1353          8077   \n",
       "\n",
       "    total_elevation_gain  type sport_type  workout_type           id  ...  \\\n",
       "8                   61.0  Ride       Ride           NaN  11291134982  ...   \n",
       "9                  800.0  Ride       Ride          10.0  11284528671  ...   \n",
       "10                 694.0  Ride       Ride          10.0  11267859653  ...   \n",
       "11                   0.0  Swim       Swim           NaN  11262576995  ...   \n",
       "12                 103.0  Ride       Ride          12.0  11263227838  ...   \n",
       "\n",
       "   pr_count total_photo_count has_kudoed  suffer_score  athlete.id  \\\n",
       "8         0                 0      False           NaN   104560661   \n",
       "9        19                 1      False          61.0   104560661   \n",
       "10       14                 4      False          59.0   104560661   \n",
       "11        0                 2      False          12.0   104560661   \n",
       "12        0                 0      False           NaN   104560661   \n",
       "\n",
       "    athlete.resource_state        map.id  \\\n",
       "8                        1  a11291134982   \n",
       "9                        1  a11284528671   \n",
       "10                       1  a11267859653   \n",
       "11                       1  a11262576995   \n",
       "12                       1  a11263227838   \n",
       "\n",
       "                                 map.summary_polyline  map.resource_state  \\\n",
       "8   ehcmBr~ssMv@X|@b@~CbA`@TFNCHqAhC[|@uBvE]`@a@Zm...                   2   \n",
       "9   ghcmBx~ssMbIlCjFeAC\\xc@|RlEpDjO|TxBkAxFYhFqC`P...                   2   \n",
       "10  oycmBprrsM|@gAv@{C~@o@zAM|@JvGrDtBb@zO?tD~AvCV...                   2   \n",
       "11                                                NaN                   2   \n",
       "12  ihcmBz~ssM~Al@hBj@bA^PJRD\\AhAc@^ILIDQB]FmABKBE...                   2   \n",
       "\n",
       "    average_temp  \n",
       "8           32.0  \n",
       "9           26.0  \n",
       "10          23.0  \n",
       "11           NaN  \n",
       "12          38.0  \n",
       "\n",
       "[5 rows x 60 columns]"
      ]
     },
     "execution_count": 15,
     "metadata": {},
     "output_type": "execute_result"
    }
   ],
   "source": [
    "training.head()"
   ]
  },
  {
   "cell_type": "code",
   "execution_count": 8,
   "metadata": {},
   "outputs": [
    {
     "data": {
      "text/plain": [
       "Index(['resource_state', 'name', 'distance', 'moving_time', 'elapsed_time',\n",
       "       'total_elevation_gain', 'type', 'sport_type', 'workout_type', 'id',\n",
       "       'start_date', 'start_date_local', 'timezone', 'utc_offset',\n",
       "       'location_city', 'location_state', 'location_country',\n",
       "       'achievement_count', 'kudos_count', 'comment_count', 'athlete_count',\n",
       "       'photo_count', 'trainer', 'commute', 'manual', 'private', 'visibility',\n",
       "       'flagged', 'gear_id', 'start_latlng', 'end_latlng', 'average_speed',\n",
       "       'max_speed', 'average_cadence', 'average_watts', 'max_watts',\n",
       "       'weighted_average_watts', 'kilojoules', 'device_watts', 'has_heartrate',\n",
       "       'average_heartrate', 'max_heartrate', 'heartrate_opt_out',\n",
       "       'display_hide_heartrate_option', 'elev_high', 'elev_low', 'upload_id',\n",
       "       'upload_id_str', 'external_id', 'from_accepted_tag', 'pr_count',\n",
       "       'total_photo_count', 'has_kudoed', 'suffer_score', 'athlete.id',\n",
       "       'athlete.resource_state', 'map.id', 'map.summary_polyline',\n",
       "       'map.resource_state', 'average_temp'],\n",
       "      dtype='object')"
      ]
     },
     "execution_count": 8,
     "metadata": {},
     "output_type": "execute_result"
    }
   ],
   "source": [
    "training.columns"
   ]
  },
  {
   "cell_type": "code",
   "execution_count": 18,
   "metadata": {},
   "outputs": [
    {
     "data": {
      "text/plain": [
       "8     2024-04-29 14:13:35+00:00\n",
       "9     2024-04-28 10:28:06+00:00\n",
       "10    2024-04-26 10:14:14+00:00\n",
       "11    2024-04-25 16:47:40+00:00\n",
       "12    2024-04-25 16:34:37+00:00\n",
       "                 ...           \n",
       "111   2024-01-11 14:21:40+00:00\n",
       "112   2024-01-09 09:17:47+00:00\n",
       "113   2024-01-08 16:32:16+00:00\n",
       "114   2024-01-07 08:22:49+00:00\n",
       "115   2024-01-04 09:16:02+00:00\n",
       "Name: start_date, Length: 108, dtype: datetime64[ns, UTC]"
      ]
     },
     "execution_count": 18,
     "metadata": {},
     "output_type": "execute_result"
    }
   ],
   "source": [
    "training.start_date"
   ]
  },
  {
   "cell_type": "code",
   "execution_count": 17,
   "metadata": {},
   "outputs": [
    {
     "data": {
      "text/plain": [
       "8     2024-04-29 09:13:35+00:00\n",
       "9     2024-04-28 05:28:06+00:00\n",
       "10    2024-04-26 05:14:14+00:00\n",
       "11    2024-04-25 11:47:40+00:00\n",
       "12    2024-04-25 11:34:37+00:00\n",
       "                 ...           \n",
       "111   2024-01-11 16:21:40+00:00\n",
       "112   2024-01-09 11:17:47+00:00\n",
       "113   2024-01-08 18:32:16+00:00\n",
       "114   2024-01-07 10:22:49+00:00\n",
       "115   2024-01-04 11:16:02+00:00\n",
       "Name: start_date_local, Length: 108, dtype: datetime64[ns, UTC]"
      ]
     },
     "execution_count": 17,
     "metadata": {},
     "output_type": "execute_result"
    }
   ],
   "source": [
    "training.start_date_local"
   ]
  },
  {
   "cell_type": "markdown",
   "metadata": {},
   "source": [
    "## Training statistics"
   ]
  },
  {
   "cell_type": "code",
   "execution_count": 24,
   "metadata": {},
   "outputs": [],
   "source": [
    "from dateutil import relativedelta\n",
    " \n",
    "def convert_seconds(n):\n",
    "    rd = relativedelta.relativedelta(seconds=n)\n",
    "    return \"{}h {:02d}m\".format(rd.days*24+rd.hours, rd.minutes)"
   ]
  },
  {
   "cell_type": "code",
   "execution_count": 25,
   "metadata": {},
   "outputs": [
    {
     "data": {
      "text/plain": [
       "'113h 11m'"
      ]
     },
     "execution_count": 25,
     "metadata": {},
     "output_type": "execute_result"
    }
   ],
   "source": [
    "# total training moving time\n",
    "convert_seconds(training.moving_time.sum())"
   ]
  },
  {
   "cell_type": "code",
   "execution_count": 26,
   "metadata": {},
   "outputs": [
    {
     "name": "stdout",
     "output_type": "stream",
     "text": [
      "Ride: 60h 35m\n",
      "Swim: 4h 13m\n",
      "Walk: 11h 26m\n",
      "Run: 4h 58m\n",
      "Workout: 8h 27m\n",
      "VirtualRide: 19h 13m\n",
      "WeightTraining: 4h 16m\n"
     ]
    }
   ],
   "source": [
    "# for each sport\n",
    "sport_types = list(training.type.unique())\n",
    "\n",
    "for s in sport_types:\n",
    "    total = training.loc[training.type == s].moving_time.sum()\n",
    "    pretty_time = convert_seconds(total)\n",
    "    print(\"{}: {}\".format(s,pretty_time))"
   ]
  },
  {
   "cell_type": "code",
   "execution_count": 28,
   "metadata": {},
   "outputs": [],
   "source": [
    "# for each sport\n",
    "sport_types = list(training.type.unique())\n",
    "totals_hr = []\n",
    "\n",
    "for s in sport_types:\n",
    "    total_s = training.loc[training.type == s].moving_time.sum()\n",
    "    totals_hr.append(total_s / 3600)\n",
    "\n",
    "totals_df = pd.DataFrame(data=totals_hr, index=sport_types, columns=['total moving time (h)'])"
   ]
  },
  {
   "cell_type": "code",
   "execution_count": 50,
   "metadata": {},
   "outputs": [
    {
     "name": "stderr",
     "output_type": "stream",
     "text": [
      "/tmp/ipykernel_110/3815723056.py:1: FutureWarning: \n",
      "\n",
      "Passing `palette` without assigning `hue` is deprecated and will be removed in v0.14.0. Assign the `x` variable to `hue` and set `legend=False` for the same effect.\n",
      "\n",
      "  ax = sns.barplot(\n"
     ]
    },
    {
     "data": {
      "text/plain": [
       "Text(0.5, 1.0, 'DJBB 2024 training')"
      ]
     },
     "execution_count": 50,
     "metadata": {},
     "output_type": "execute_result"
    },
    {
     "data": {
      "image/png": "[encoded data removed]",
      "text/plain": [
       "<Figure size 640x480 with 1 Axes>"
      ]
     },
     "metadata": {},
     "output_type": "display_data"
    }
   ],
   "source": [
    "ax = sns.barplot(\n",
    "    x=totals_df.index,\n",
    "    y=totals_df['total moving time (h)'],\n",
    "    palette=sns.color_palette(\"Set2\", 7),\n",
    ")\n",
    "ax.tick_params(axis='x', rotation=45)\n",
    "ax.set(xlabel='sport')\n",
    "ax.set_title(\"DJBB 2024 training\")"
   ]
  },
  {
   "cell_type": "code",
   "execution_count": 189,
   "metadata": {},
   "outputs": [
    {
     "name": "stdout",
     "output_type": "stream",
     "text": [
      "Active riding weeks: 8\n",
      "Average rides per week: 4.0\n",
      "Average km per week: 166.1\n",
      "Total km: 1328.9\n",
      "Total elevation gain (m): 12106\n",
      "\n"
     ]
    }
   ],
   "source": [
    "# riding hours and kilometers\n",
    "ride_df =  training.loc[training.type == 'Ride']\n",
    "\n",
    "total_km = ride_df.distance.sum() / 1000\n",
    "active_wks = (17-8-2+1)\n",
    "km_per_wk = total_km / active_wks\n",
    "\n",
    "total_elevation_gain = ride_df.total_elevation_gain.sum()\n",
    "\n",
    "print(\"Active riding weeks:\", active_wks)\n",
    "print(\"Average rides per week: {:.1f}\".format(ride_df.shape[0]/active_wks))\n",
    "print(\"Average km per week: {:.1f}\".format(km_per_wk))\n",
    "print(\"Total km: {:.1f}\".format(total_km))\n",
    "print(\"Total elevation gain (m): {:.0f}\\n\".format(total_elevation_gain))"
   ]
  },
  {
   "cell_type": "code",
   "execution_count": 182,
   "metadata": {},
   "outputs": [
    {
     "data": {
      "text/plain": [
       "count    32.000000\n",
       "mean     26.687500\n",
       "std       5.396758\n",
       "min      19.000000\n",
       "25%      23.000000\n",
       "50%      25.500000\n",
       "75%      30.250000\n",
       "max      39.000000\n",
       "Name: average_temp, dtype: float64"
      ]
     },
     "execution_count": 182,
     "metadata": {},
     "output_type": "execute_result"
    }
   ],
   "source": [
    "# temperatures\n",
    "ride_df.average_temp.describe()"
   ]
  },
  {
   "cell_type": "markdown",
   "metadata": {},
   "source": [
    "## DJBB2024 statistics"
   ]
  },
  {
   "cell_type": "code",
   "execution_count": 159,
   "metadata": {},
   "outputs": [
    {
     "data": {
      "text/plain": [
       "'26h 10m'"
      ]
     },
     "execution_count": 159,
     "metadata": {},
     "output_type": "execute_result"
    }
   ],
   "source": [
    "# total moving time\n",
    "convert_seconds(race.moving_time.sum())"
   ]
  },
  {
   "cell_type": "code",
   "execution_count": 160,
   "metadata": {},
   "outputs": [
    {
     "name": "stdout",
     "output_type": "stream",
     "text": [
      "Total distance: 627.4 (392.1miles)\n"
     ]
    }
   ],
   "source": [
    "total_dist_km = race.distance.sum()/1000\n",
    "print(\"Total distance: {:.1f} ({:.1f}miles)\".format(total_dist_km, total_dist_km/1.6))"
   ]
  },
  {
   "cell_type": "code",
   "execution_count": 161,
   "metadata": {},
   "outputs": [
    {
     "name": "stdout",
     "output_type": "stream",
     "text": [
      "Average speed: 24.0km (15.0mph)\n"
     ]
    }
   ],
   "source": [
    "avg_spd_km = total_dist_km / (race.moving_time.sum()/3600)\n",
    "print(\"Average speed: {:.1f}km ({:.1f}mph)\".format(avg_spd_km, avg_spd_km/1.6))"
   ]
  },
  {
   "cell_type": "code",
   "execution_count": 196,
   "metadata": {},
   "outputs": [
    {
     "name": "stdout",
     "output_type": "stream",
     "text": [
      "Total elevation gain: 5983.0m (19629.3feet)\n"
     ]
    }
   ],
   "source": [
    "total_elevation_gain_m = race.total_elevation_gain.sum()\n",
    "print(\"Total elevation gain: {:.1f}m ({:.1f}feet)\".format(\n",
    "    total_elevation_gain_m,\n",
    "    total_elevation_gain_m/.3048))"
   ]
  },
  {
   "cell_type": "code",
   "execution_count": 183,
   "metadata": {},
   "outputs": [
    {
     "data": {
      "text/plain": [
       "count     5.00000\n",
       "mean     30.60000\n",
       "std       1.67332\n",
       "min      28.00000\n",
       "25%      30.00000\n",
       "50%      31.00000\n",
       "75%      32.00000\n",
       "max      32.00000\n",
       "Name: average_temp, dtype: float64"
      ]
     },
     "execution_count": 183,
     "metadata": {},
     "output_type": "execute_result"
    }
   ],
   "source": [
    "# temperatures\n",
    "race.average_temp.describe()"
   ]
  }
 ],
 "metadata": {
  "kernelspec": {
   "display_name": ".venv",
   "language": "python",
   "name": "python3"
  },
  "language_info": {
   "codemirror_mode": {
    "name": "ipython",
    "version": 3
   },
   "file_extension": ".py",
   "mimetype": "text/x-python",
   "name": "python",
   "nbconvert_exporter": "python",
   "pygments_lexer": "ipython3",
   "version": "3.10.12"
  }
 },
 "nbformat": 4,
 "nbformat_minor": 4
}
