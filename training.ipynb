{
 "cells": [
  {
   "cell_type": "markdown",
   "metadata": {},
   "source": [
    "# Training totals\n",
    "\n",
    "This notebook explores my training for DJBB 2024 in Jamaica."
   ]
  },
  {
   "cell_type": "markdown",
   "metadata": {},
   "source": [
    "## Setup imports"
   ]
  },
  {
   "cell_type": "code",
   "execution_count": 56,
   "metadata": {
    "tags": []
   },
   "outputs": [],
   "source": [
    "%matplotlib inline\n",
    "\n",
    "import os, sys\n",
    "import shutil\n",
    "import tempfile\n",
    "import glob\n",
    "import re\n",
    "import time\n",
    "import datetime\n",
    "import copy\n",
    "import pickle\n",
    "import hashlib\n",
    "import logging\n",
    "import warnings\n",
    "import random\n",
    "\n",
    "import matplotlib.pyplot as plt\n",
    "import pandas as pd\n",
    "import numpy as np\n",
    "import seaborn as sns\n",
    "\n",
    "sns.set_style(\"whitegrid\")\n",
    "pd.set_option('display.max_rows', 100)"
   ]
  },
  {
   "cell_type": "code",
   "execution_count": 57,
   "metadata": {},
   "outputs": [],
   "source": [
    "# log level\n",
    "logging.basicConfig(\n",
    "    stream=sys.stdout,\n",
    "    format='%(asctime)s %(levelname)s: %(message)s',\n",
    "    level=logging.INFO)\n",
    "\n",
    "logger = logging.getLogger(\"notebook\")\n",
    "logger.setLevel(logging.DEBUG)\n",
    "\n",
    "# disable font not found warnings\n",
    "logging.getLogger('matplotlib.font_manager').disabled = True"
   ]
  },
  {
   "cell_type": "markdown",
   "metadata": {},
   "source": [
    "## Setup data directory"
   ]
  },
  {
   "cell_type": "code",
   "execution_count": 58,
   "metadata": {
    "tags": []
   },
   "outputs": [
    {
     "name": "stdout",
     "output_type": "stream",
     "text": [
      "env: DATA_DIRECTORY=data\n",
      "Data root: data, file: data/my_activity_data=20240508102713.csv\n"
     ]
    }
   ],
   "source": [
    "# Use Jupyter magic to retain variable in this notebook\n",
    "%env DATA_DIRECTORY=data\n",
    "dataset_name = \"my_activity_data=20240508102713.csv\"\n",
    "directory = os.environ.get(\"DATA_DIRECTORY\")\n",
    "root_dir = tempfile.mkdtemp() if directory is None else directory\n",
    "data_dir = os.path.join(root_dir, dataset_name)\n",
    "print(f\"Data root: {root_dir}, file: {data_dir}\")"
   ]
  },
  {
   "cell_type": "code",
   "execution_count": 59,
   "metadata": {},
   "outputs": [],
   "source": [
    "df = pd.read_csv(data_dir, parse_dates=['start_date', 'start_date_local'])"
   ]
  },
  {
   "cell_type": "markdown",
   "metadata": {},
   "source": [
    "## Parse data dump"
   ]
  },
  {
   "cell_type": "code",
   "execution_count": 78,
   "metadata": {},
   "outputs": [],
   "source": [
    "# 2024 training data\n",
    "training = df.loc[(df.start_date > '2024-01-01') & (df.start_date_local < '2024-04-30')]"
   ]
  },
  {
   "cell_type": "code",
   "execution_count": 86,
   "metadata": {},
   "outputs": [],
   "source": [
    "# DJBB 2024\n",
    "race = df.loc[df.name.str.contains('DJBB')]"
   ]
  },
  {
   "cell_type": "code",
   "execution_count": 91,
   "metadata": {},
   "outputs": [
    {
     "data": {
      "text/html": [
       "<div>\n",
       "<style scoped>\n",
       "    .dataframe tbody tr th:only-of-type {\n",
       "        vertical-align: middle;\n",
       "    }\n",
       "\n",
       "    .dataframe tbody tr th {\n",
       "        vertical-align: top;\n",
       "    }\n",
       "\n",
       "    .dataframe thead th {\n",
       "        text-align: right;\n",
       "    }\n",
       "</style>\n",
       "<table border=\"1\" class=\"dataframe\">\n",
       "  <thead>\n",
       "    <tr style=\"text-align: right;\">\n",
       "      <th></th>\n",
       "      <th>resource_state</th>\n",
       "      <th>name</th>\n",
       "      <th>distance</th>\n",
       "      <th>moving_time</th>\n",
       "      <th>elapsed_time</th>\n",
       "      <th>total_elevation_gain</th>\n",
       "      <th>type</th>\n",
       "      <th>sport_type</th>\n",
       "      <th>workout_type</th>\n",
       "      <th>id</th>\n",
       "      <th>...</th>\n",
       "      <th>pr_count</th>\n",
       "      <th>total_photo_count</th>\n",
       "      <th>has_kudoed</th>\n",
       "      <th>suffer_score</th>\n",
       "      <th>athlete.id</th>\n",
       "      <th>athlete.resource_state</th>\n",
       "      <th>map.id</th>\n",
       "      <th>map.summary_polyline</th>\n",
       "      <th>map.resource_state</th>\n",
       "      <th>average_temp</th>\n",
       "    </tr>\n",
       "  </thead>\n",
       "  <tbody>\n",
       "    <tr>\n",
       "      <th>8</th>\n",
       "      <td>2</td>\n",
       "      <td>Morning Ride</td>\n",
       "      <td>4780.4</td>\n",
       "      <td>987</td>\n",
       "      <td>1914</td>\n",
       "      <td>61.0</td>\n",
       "      <td>Ride</td>\n",
       "      <td>Ride</td>\n",
       "      <td>NaN</td>\n",
       "      <td>11291134982</td>\n",
       "      <td>...</td>\n",
       "      <td>0</td>\n",
       "      <td>0</td>\n",
       "      <td>False</td>\n",
       "      <td>NaN</td>\n",
       "      <td>104560661</td>\n",
       "      <td>1</td>\n",
       "      <td>a11291134982</td>\n",
       "      <td>ehcmBr~ssMv@X|@b@~CbA`@TFNCHqAhC[|@uBvE]`@a@Zm...</td>\n",
       "      <td>2</td>\n",
       "      <td>32.0</td>\n",
       "    </tr>\n",
       "    <tr>\n",
       "      <th>9</th>\n",
       "      <td>2</td>\n",
       "      <td>Morning Ride</td>\n",
       "      <td>49279.1</td>\n",
       "      <td>10733</td>\n",
       "      <td>17090</td>\n",
       "      <td>800.0</td>\n",
       "      <td>Ride</td>\n",
       "      <td>Ride</td>\n",
       "      <td>10.0</td>\n",
       "      <td>11284528671</td>\n",
       "      <td>...</td>\n",
       "      <td>19</td>\n",
       "      <td>1</td>\n",
       "      <td>False</td>\n",
       "      <td>61.0</td>\n",
       "      <td>104560661</td>\n",
       "      <td>1</td>\n",
       "      <td>a11284528671</td>\n",
       "      <td>ghcmBx~ssMbIlCjFeAC\\xc@|RlEpDjO|TxBkAxFYhFqC`P...</td>\n",
       "      <td>2</td>\n",
       "      <td>26.0</td>\n",
       "    </tr>\n",
       "    <tr>\n",
       "      <th>10</th>\n",
       "      <td>2</td>\n",
       "      <td>Morning Ride</td>\n",
       "      <td>30850.8</td>\n",
       "      <td>6768</td>\n",
       "      <td>8325</td>\n",
       "      <td>694.0</td>\n",
       "      <td>Ride</td>\n",
       "      <td>Ride</td>\n",
       "      <td>10.0</td>\n",
       "      <td>11267859653</td>\n",
       "      <td>...</td>\n",
       "      <td>14</td>\n",
       "      <td>4</td>\n",
       "      <td>False</td>\n",
       "      <td>59.0</td>\n",
       "      <td>104560661</td>\n",
       "      <td>1</td>\n",
       "      <td>a11267859653</td>\n",
       "      <td>oycmBprrsM|@gAv@{C~@o@zAM|@JvGrDtBb@zO?tD~AvCV...</td>\n",
       "      <td>2</td>\n",
       "      <td>23.0</td>\n",
       "    </tr>\n",
       "    <tr>\n",
       "      <th>11</th>\n",
       "      <td>2</td>\n",
       "      <td>Lunch Swim</td>\n",
       "      <td>475.0</td>\n",
       "      <td>1807</td>\n",
       "      <td>1807</td>\n",
       "      <td>0.0</td>\n",
       "      <td>Swim</td>\n",
       "      <td>Swim</td>\n",
       "      <td>NaN</td>\n",
       "      <td>11262576995</td>\n",
       "      <td>...</td>\n",
       "      <td>0</td>\n",
       "      <td>2</td>\n",
       "      <td>False</td>\n",
       "      <td>12.0</td>\n",
       "      <td>104560661</td>\n",
       "      <td>1</td>\n",
       "      <td>a11262576995</td>\n",
       "      <td>NaN</td>\n",
       "      <td>2</td>\n",
       "      <td>NaN</td>\n",
       "    </tr>\n",
       "    <tr>\n",
       "      <th>12</th>\n",
       "      <td>2</td>\n",
       "      <td>Lunch Ride</td>\n",
       "      <td>6438.6</td>\n",
       "      <td>1353</td>\n",
       "      <td>8077</td>\n",
       "      <td>103.0</td>\n",
       "      <td>Ride</td>\n",
       "      <td>Ride</td>\n",
       "      <td>12.0</td>\n",
       "      <td>11263227838</td>\n",
       "      <td>...</td>\n",
       "      <td>0</td>\n",
       "      <td>0</td>\n",
       "      <td>False</td>\n",
       "      <td>NaN</td>\n",
       "      <td>104560661</td>\n",
       "      <td>1</td>\n",
       "      <td>a11263227838</td>\n",
       "      <td>ihcmBz~ssM~Al@hBj@bA^PJRD\\AhAc@^ILIDQB]FmABKBE...</td>\n",
       "      <td>2</td>\n",
       "      <td>38.0</td>\n",
       "    </tr>\n",
       "  </tbody>\n",
       "</table>\n",
       "<p>5 rows × 60 columns</p>\n",
       "</div>"
      ],
      "text/plain": [
       "    resource_state          name  distance  moving_time  elapsed_time  \\\n",
       "8                2  Morning Ride    4780.4          987          1914   \n",
       "9                2  Morning Ride   49279.1        10733         17090   \n",
       "10               2  Morning Ride   30850.8         6768          8325   \n",
       "11               2    Lunch Swim     475.0         1807          1807   \n",
       "12               2    Lunch Ride    6438.6         1353          8077   \n",
       "\n",
       "    total_elevation_gain  type sport_type  workout_type           id  ...  \\\n",
       "8                   61.0  Ride       Ride           NaN  11291134982  ...   \n",
       "9                  800.0  Ride       Ride          10.0  11284528671  ...   \n",
       "10                 694.0  Ride       Ride          10.0  11267859653  ...   \n",
       "11                   0.0  Swim       Swim           NaN  11262576995  ...   \n",
       "12                 103.0  Ride       Ride          12.0  11263227838  ...   \n",
       "\n",
       "   pr_count total_photo_count has_kudoed  suffer_score  athlete.id  \\\n",
       "8         0                 0      False           NaN   104560661   \n",
       "9        19                 1      False          61.0   104560661   \n",
       "10       14                 4      False          59.0   104560661   \n",
       "11        0                 2      False          12.0   104560661   \n",
       "12        0                 0      False           NaN   104560661   \n",
       "\n",
       "    athlete.resource_state        map.id  \\\n",
       "8                        1  a11291134982   \n",
       "9                        1  a11284528671   \n",
       "10                       1  a11267859653   \n",
       "11                       1  a11262576995   \n",
       "12                       1  a11263227838   \n",
       "\n",
       "                                 map.summary_polyline  map.resource_state  \\\n",
       "8   ehcmBr~ssMv@X|@b@~CbA`@TFNCHqAhC[|@uBvE]`@a@Zm...                   2   \n",
       "9   ghcmBx~ssMbIlCjFeAC\\xc@|RlEpDjO|TxBkAxFYhFqC`P...                   2   \n",
       "10  oycmBprrsM|@gAv@{C~@o@zAM|@JvGrDtBb@zO?tD~AvCV...                   2   \n",
       "11                                                NaN                   2   \n",
       "12  ihcmBz~ssM~Al@hBj@bA^PJRD\\AhAc@^ILIDQB]FmABKBE...                   2   \n",
       "\n",
       "    average_temp  \n",
       "8           32.0  \n",
       "9           26.0  \n",
       "10          23.0  \n",
       "11           NaN  \n",
       "12          38.0  \n",
       "\n",
       "[5 rows x 60 columns]"
      ]
     },
     "execution_count": 91,
     "metadata": {},
     "output_type": "execute_result"
    }
   ],
   "source": [
    "training.head()"
   ]
  },
  {
   "cell_type": "markdown",
   "metadata": {},
   "source": [
    "## Training statistics"
   ]
  },
  {
   "cell_type": "code",
   "execution_count": 136,
   "metadata": {},
   "outputs": [],
   "source": [
    "from dateutil import relativedelta\n",
    " \n",
    "def convert_seconds(n):\n",
    "    rd = relativedelta.relativedelta(seconds=n)\n",
    "    return \"{}h {:02d}m\".format(rd.days*24+rd.hours, rd.minutes)"
   ]
  },
  {
   "cell_type": "code",
   "execution_count": 137,
   "metadata": {},
   "outputs": [
    {
     "data": {
      "text/plain": [
       "'113h 11m'"
      ]
     },
     "execution_count": 137,
     "metadata": {},
     "output_type": "execute_result"
    }
   ],
   "source": [
    "# total training moving time\n",
    "convert_seconds(training.moving_time.sum())"
   ]
  },
  {
   "cell_type": "code",
   "execution_count": 138,
   "metadata": {},
   "outputs": [
    {
     "name": "stdout",
     "output_type": "stream",
     "text": [
      "Ride: 60h 35m\n",
      "Swim: 4h 13m\n",
      "Walk: 11h 26m\n",
      "Run: 4h 58m\n",
      "Workout: 8h 27m\n",
      "VirtualRide: 19h 13m\n",
      "WeightTraining: 4h 16m\n"
     ]
    }
   ],
   "source": [
    "# for each sport\n",
    "sport_types = list(training.type.unique())\n",
    "\n",
    "for s in sport_types:\n",
    "    total = training.loc[training.type == s].moving_time.sum()\n",
    "    pretty_time = convert_seconds(total)\n",
    "    print(\"{}: {}\".format(s,pretty_time))"
   ]
  },
  {
   "cell_type": "code",
   "execution_count": 189,
   "metadata": {},
   "outputs": [
    {
     "name": "stdout",
     "output_type": "stream",
     "text": [
      "Active riding weeks: 8\n",
      "Average rides per week: 4.0\n",
      "Average km per week: 166.1\n",
      "Total km: 1328.9\n",
      "Total elevation gain (m): 12106\n",
      "\n"
     ]
    }
   ],
   "source": [
    "# riding hours and kilometers\n",
    "ride_df =  training.loc[training.type == 'Ride']\n",
    "\n",
    "total_km = ride_df.distance.sum() / 1000\n",
    "active_wks = (17-8-2+1)\n",
    "km_per_wk = total_km / active_wks\n",
    "\n",
    "total_elevation_gain = ride_df.total_elevation_gain.sum()\n",
    "\n",
    "print(\"Active riding weeks:\", active_wks)\n",
    "print(\"Average rides per week: {:.1f}\".format(ride_df.shape[0]/active_wks))\n",
    "print(\"Average km per week: {:.1f}\".format(km_per_wk))\n",
    "print(\"Total km: {:.1f}\".format(total_km))\n",
    "print(\"Total elevation gain (m): {:.0f}\\n\".format(total_elevation_gain))"
   ]
  },
  {
   "cell_type": "code",
   "execution_count": 182,
   "metadata": {},
   "outputs": [
    {
     "data": {
      "text/plain": [
       "count    32.000000\n",
       "mean     26.687500\n",
       "std       5.396758\n",
       "min      19.000000\n",
       "25%      23.000000\n",
       "50%      25.500000\n",
       "75%      30.250000\n",
       "max      39.000000\n",
       "Name: average_temp, dtype: float64"
      ]
     },
     "execution_count": 182,
     "metadata": {},
     "output_type": "execute_result"
    }
   ],
   "source": [
    "# temperatures\n",
    "ride_df.average_temp.describe()"
   ]
  },
  {
   "cell_type": "markdown",
   "metadata": {},
   "source": [
    "## DJBB2024 statistics"
   ]
  },
  {
   "cell_type": "code",
   "execution_count": 159,
   "metadata": {},
   "outputs": [
    {
     "data": {
      "text/plain": [
       "'26h 10m'"
      ]
     },
     "execution_count": 159,
     "metadata": {},
     "output_type": "execute_result"
    }
   ],
   "source": [
    "# total moving time\n",
    "convert_seconds(race.moving_time.sum())"
   ]
  },
  {
   "cell_type": "code",
   "execution_count": 160,
   "metadata": {},
   "outputs": [
    {
     "name": "stdout",
     "output_type": "stream",
     "text": [
      "Total distance: 627.4 (392.1miles)\n"
     ]
    }
   ],
   "source": [
    "total_dist_km = race.distance.sum()/1000\n",
    "print(\"Total distance: {:.1f} ({:.1f}miles)\".format(total_dist_km, total_dist_km/1.6))"
   ]
  },
  {
   "cell_type": "code",
   "execution_count": 161,
   "metadata": {},
   "outputs": [
    {
     "name": "stdout",
     "output_type": "stream",
     "text": [
      "Average speed: 24.0km (15.0mph)\n"
     ]
    }
   ],
   "source": [
    "avg_spd_km = total_dist_km / (race.moving_time.sum()/3600)\n",
    "print(\"Average speed: {:.1f}km ({:.1f}mph)\".format(avg_spd_km, avg_spd_km/1.6))"
   ]
  },
  {
   "cell_type": "code",
   "execution_count": 196,
   "metadata": {},
   "outputs": [
    {
     "name": "stdout",
     "output_type": "stream",
     "text": [
      "Total elevation gain: 5983.0m (19629.3feet)\n"
     ]
    }
   ],
   "source": [
    "total_elevation_gain_m = race.total_elevation_gain.sum()\n",
    "print(\"Total elevation gain: {:.1f}m ({:.1f}feet)\".format(\n",
    "    total_elevation_gain_m,\n",
    "    total_elevation_gain_m/.3048))"
   ]
  },
  {
   "cell_type": "code",
   "execution_count": 183,
   "metadata": {},
   "outputs": [
    {
     "data": {
      "text/plain": [
       "count     5.00000\n",
       "mean     30.60000\n",
       "std       1.67332\n",
       "min      28.00000\n",
       "25%      30.00000\n",
       "50%      31.00000\n",
       "75%      32.00000\n",
       "max      32.00000\n",
       "Name: average_temp, dtype: float64"
      ]
     },
     "execution_count": 183,
     "metadata": {},
     "output_type": "execute_result"
    }
   ],
   "source": [
    "# temperatures\n",
    "race.average_temp.describe()"
   ]
  }
 ],
 "metadata": {
  "kernelspec": {
   "display_name": "Python 3 (ipykernel)",
   "language": "python",
   "name": "python3"
  },
  "language_info": {
   "codemirror_mode": {
    "name": "ipython",
    "version": 3
   },
   "file_extension": ".py",
   "mimetype": "text/x-python",
   "name": "python",
   "nbconvert_exporter": "python",
   "pygments_lexer": "ipython3",
   "version": "3.11.6"
  }
 },
 "nbformat": 4,
 "nbformat_minor": 4
}
